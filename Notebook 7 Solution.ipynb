{
 "cells": [
  {
   "cell_type": "markdown",
   "metadata": {},
   "source": [
    "ANS1:\n",
    "For the value of 5 in median filter parameter we can able to see the dark spot clearly so increasing the value of median filter, increases the information that we get and also the contrast.\n",
    "\n",
    "A scalar or an N-length list giving the size of the median filter window in each dimension. \n",
    "Elements of kernel_size should be odd. If kernel_size is a scalar, then this scalar is used as the size in each dimension. The median filter is a nonlinear digital filtering technique, often used to remove noise A typical pre-processing step to improve the results of later processing (for example, edge detection on an image).\n",
    "        \n",
    "Ans2: \n",
    "No, If we use the the converted signal as the voltage instead of log than the grayscale will be linear instad of logrithmic and that means the image contrast changes with respact to the voltage scale not an logarithmic value of gain which is not linear scale.  \n",
    "\n",
    "Ans3:\n",
    "Logarithmic imaging is converting the log values of gain into the contrast of image.The grayscale is used that highest gain repesets fully white/gray and lowest gain represents fully dark/gray.\n",
    "\n",
    "Ans4:  \n",
    "It reduces the The voltage scale and attenuation coefficent works exponentially means it componsate more on higher attenuated signal and lower to less attenuated. Means The image doesnot affect much due to diffrent kind of tissues.\n",
    "    \n",
    "Ans5:\n",
    "Hilbert transform gives envelope the signal. Envelope of an oscillating signal is a smooth curve outlining for imaging. The amplitude of this enveloped signal is used for grayscale of image.\n",
    "        "
   ]
  },
  {
   "cell_type": "code",
   "execution_count": null,
   "metadata": {
    "collapsed": true
   },
   "outputs": [],
   "source": []
  }
 ],
 "metadata": {
  "kernelspec": {
   "display_name": "Python 2",
   "language": "python",
   "name": "python2"
  },
  "language_info": {
   "codemirror_mode": {
    "name": "ipython",
    "version": 2
   },
   "file_extension": ".py",
   "mimetype": "text/x-python",
   "name": "python",
   "nbconvert_exporter": "python",
   "pygments_lexer": "ipython2",
   "version": "2.7.13"
  }
 },
 "nbformat": 4,
 "nbformat_minor": 2
}
